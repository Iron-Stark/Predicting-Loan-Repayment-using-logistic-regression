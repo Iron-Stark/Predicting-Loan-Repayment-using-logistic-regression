{
 "cells": [
  {
   "cell_type": "markdown",
   "metadata": {},
   "source": [
    "# Predicting Loan Repayment using Logistic Regression"
   ]
  },
  {
   "cell_type": "markdown",
   "metadata": {},
   "source": [
    "### Loading the dataset"
   ]
  },
  {
   "cell_type": "code",
   "execution_count": 6,
   "metadata": {
    "collapsed": false
   },
   "outputs": [],
   "source": [
    "loan=read.csv(\"loans.csv\")"
   ]
  },
  {
   "cell_type": "markdown",
   "metadata": {},
   "source": [
    "### Analysing the structure of the dataset"
   ]
  },
  {
   "cell_type": "code",
   "execution_count": 7,
   "metadata": {
    "collapsed": false
   },
   "outputs": [
    {
     "name": "stdout",
     "output_type": "stream",
     "text": [
      "'data.frame':\t9578 obs. of  14 variables:\n",
      " $ credit.policy    : int  1 1 1 1 1 1 1 1 1 1 ...\n",
      " $ purpose          : Factor w/ 7 levels \"all_other\",\"credit_card\",..: 3 2 3 3 2 2 3 1 5 3 ...\n",
      " $ int.rate         : num  0.119 0.107 0.136 0.101 0.143 ...\n",
      " $ installment      : num  829 228 367 162 103 ...\n",
      " $ log.annual.inc   : num  11.4 11.1 10.4 11.4 11.3 ...\n",
      " $ dti              : num  19.5 14.3 11.6 8.1 15 ...\n",
      " $ fico             : int  737 707 682 712 667 727 667 722 682 707 ...\n",
      " $ days.with.cr.line: num  5640 2760 4710 2700 4066 ...\n",
      " $ revol.bal        : int  28854 33623 3511 33667 4740 50807 3839 24220 69909 5630 ...\n",
      " $ revol.util       : num  52.1 76.7 25.6 73.2 39.5 51 76.8 68.6 51.1 23 ...\n",
      " $ inq.last.6mths   : int  0 0 1 1 0 0 0 0 1 1 ...\n",
      " $ delinq.2yrs      : int  0 0 0 0 1 0 0 0 0 0 ...\n",
      " $ pub.rec          : int  0 0 0 0 0 0 1 0 0 0 ...\n",
      " $ not.fully.paid   : int  0 0 0 0 0 0 1 1 0 0 ...\n"
     ]
    }
   ],
   "source": [
    "str(loan)"
   ]
  },
  {
   "cell_type": "markdown",
   "metadata": {},
   "source": [
    "### Getting Statistical information of each of the variables in the dataset"
   ]
  },
  {
   "cell_type": "code",
   "execution_count": 8,
   "metadata": {
    "collapsed": false
   },
   "outputs": [
    {
     "data": {
      "text/plain": [
       " credit.policy                 purpose        int.rate       installment    \n",
       " Min.   :0.000   all_other         :2331   Min.   :0.0600   Min.   : 15.67  \n",
       " 1st Qu.:1.000   credit_card       :1262   1st Qu.:0.1039   1st Qu.:163.77  \n",
       " Median :1.000   debt_consolidation:3957   Median :0.1221   Median :268.95  \n",
       " Mean   :0.805   educational       : 343   Mean   :0.1226   Mean   :319.09  \n",
       " 3rd Qu.:1.000   home_improvement  : 629   3rd Qu.:0.1407   3rd Qu.:432.76  \n",
       " Max.   :1.000   major_purchase    : 437   Max.   :0.2164   Max.   :940.14  \n",
       "                 small_business    : 619                                    \n",
       " log.annual.inc        dti              fico       days.with.cr.line\n",
       " Min.   : 7.548   Min.   : 0.000   Min.   :612.0   Min.   :  179    \n",
       " 1st Qu.:10.558   1st Qu.: 7.213   1st Qu.:682.0   1st Qu.: 2820    \n",
       " Median :10.929   Median :12.665   Median :707.0   Median : 4140    \n",
       " Mean   :10.932   Mean   :12.607   Mean   :710.8   Mean   : 4561    \n",
       " 3rd Qu.:11.291   3rd Qu.:17.950   3rd Qu.:737.0   3rd Qu.: 5730    \n",
       " Max.   :14.528   Max.   :29.960   Max.   :827.0   Max.   :17640    \n",
       "                                                                    \n",
       "   revol.bal         revol.util    inq.last.6mths    delinq.2yrs     \n",
       " Min.   :      0   Min.   :  0.0   Min.   : 0.000   Min.   : 0.0000  \n",
       " 1st Qu.:   3187   1st Qu.: 22.6   1st Qu.: 0.000   1st Qu.: 0.0000  \n",
       " Median :   8596   Median : 46.3   Median : 1.000   Median : 0.0000  \n",
       " Mean   :  16914   Mean   : 46.8   Mean   : 1.577   Mean   : 0.1637  \n",
       " 3rd Qu.:  18250   3rd Qu.: 70.9   3rd Qu.: 2.000   3rd Qu.: 0.0000  \n",
       " Max.   :1207359   Max.   :119.0   Max.   :33.000   Max.   :13.0000  \n",
       "                                                                     \n",
       "    pub.rec        not.fully.paid  \n",
       " Min.   :0.00000   Min.   :0.0000  \n",
       " 1st Qu.:0.00000   1st Qu.:0.0000  \n",
       " Median :0.00000   Median :0.0000  \n",
       " Mean   :0.06212   Mean   :0.1601  \n",
       " 3rd Qu.:0.00000   3rd Qu.:0.0000  \n",
       " Max.   :5.00000   Max.   :1.0000  \n",
       "                                   "
      ]
     },
     "metadata": {},
     "output_type": "display_data"
    }
   ],
   "source": [
    "summary(loan)"
   ]
  },
  {
   "cell_type": "markdown",
   "metadata": {},
   "source": [
    "### Splitting data into training and testing set"
   ]
  },
  {
   "cell_type": "code",
   "execution_count": 10,
   "metadata": {
    "collapsed": false
   },
   "outputs": [
    {
     "data": {
      "text/plain": [
       "\n",
       "Call:\n",
       "glm(formula = not.fully.paid ~ ., family = \"binomial\", data = train)\n",
       "\n",
       "Deviance Residuals: \n",
       "    Min       1Q   Median       3Q      Max  \n",
       "-2.2049  -0.6205  -0.4951  -0.3606   2.6397  \n",
       "\n",
       "Coefficients:\n",
       "                            Estimate Std. Error z value Pr(>|z|)    \n",
       "(Intercept)                9.187e+00  1.554e+00   5.910 3.42e-09 ***\n",
       "credit.policy             -3.368e-01  1.011e-01  -3.332 0.000861 ***\n",
       "purposecredit_card        -6.141e-01  1.344e-01  -4.568 4.93e-06 ***\n",
       "purposedebt_consolidation -3.212e-01  9.183e-02  -3.498 0.000469 ***\n",
       "purposeeducational         1.347e-01  1.753e-01   0.768 0.442201    \n",
       "purposehome_improvement    1.727e-01  1.480e-01   1.167 0.243135    \n",
       "purposemajor_purchase     -4.830e-01  2.009e-01  -2.404 0.016203 *  \n",
       "purposesmall_business      4.120e-01  1.419e-01   2.905 0.003678 ** \n",
       "int.rate                   6.110e-01  2.085e+00   0.293 0.769446    \n",
       "installment                1.275e-03  2.092e-04   6.093 1.11e-09 ***\n",
       "log.annual.inc            -4.337e-01  7.148e-02  -6.067 1.30e-09 ***\n",
       "dti                        4.638e-03  5.502e-03   0.843 0.399288    \n",
       "fico                      -9.317e-03  1.710e-03  -5.448 5.08e-08 ***\n",
       "days.with.cr.line          2.371e-06  1.588e-05   0.149 0.881343    \n",
       "revol.bal                  3.085e-06  1.168e-06   2.641 0.008273 ** \n",
       "revol.util                 1.839e-03  1.535e-03   1.199 0.230722    \n",
       "inq.last.6mths             8.437e-02  1.600e-02   5.275 1.33e-07 ***\n",
       "delinq.2yrs               -8.320e-02  6.561e-02  -1.268 0.204762    \n",
       "pub.rec                    3.300e-01  1.139e-01   2.898 0.003756 ** \n",
       "---\n",
       "Signif. codes:  0 ‘***’ 0.001 ‘**’ 0.01 ‘*’ 0.05 ‘.’ 0.1 ‘ ’ 1\n",
       "\n",
       "(Dispersion parameter for binomial family taken to be 1)\n",
       "\n",
       "    Null deviance: 5896.6  on 6704  degrees of freedom\n",
       "Residual deviance: 5485.2  on 6686  degrees of freedom\n",
       "AIC: 5523.2\n",
       "\n",
       "Number of Fisher Scoring iterations: 5\n"
      ]
     },
     "metadata": {},
     "output_type": "display_data"
    }
   ],
   "source": [
    "library(caTools)\n",
    "set.seed(144)\n",
    "spl=sample.split(loan$not.fully.paid,0.7)\n",
    "train=subset(loan,spl==TRUE)\n",
    "test=subset(loan,spl==FALSE)\n",
    "mod=glm(not.fully.paid~.,data=train,family=\"binomial\")\n",
    "summary(mod)\n"
   ]
  },
  {
   "cell_type": "code",
   "execution_count": 11,
   "metadata": {
    "collapsed": false
   },
   "outputs": [
    {
     "data": {
      "text/plain": [
       "   \n",
       "    FALSE TRUE\n",
       "  0  2400   13\n",
       "  1   457    3"
      ]
     },
     "metadata": {},
     "output_type": "display_data"
    }
   ],
   "source": [
    "test$predicted.risk = predict(mod, newdata=test, type=\"response\")\n",
    "table(test$not.fully.paid, test$predicted.risk > 0.5)"
   ]
  },
  {
   "cell_type": "markdown",
   "metadata": {},
   "source": [
    "### A smart baseline using int.rate as the variable"
   ]
  },
  {
   "cell_type": "code",
   "execution_count": 12,
   "metadata": {
    "collapsed": false
   },
   "outputs": [
    {
     "data": {
      "text/plain": [
       "\n",
       "Call:\n",
       "glm(formula = not.fully.paid ~ int.rate, family = \"binomial\", \n",
       "    data = train)\n",
       "\n",
       "Deviance Residuals: \n",
       "    Min       1Q   Median       3Q      Max  \n",
       "-1.0547  -0.6271  -0.5442  -0.4361   2.2914  \n",
       "\n",
       "Coefficients:\n",
       "            Estimate Std. Error z value Pr(>|z|)    \n",
       "(Intercept)  -3.6726     0.1688  -21.76   <2e-16 ***\n",
       "int.rate     15.9214     1.2702   12.54   <2e-16 ***\n",
       "---\n",
       "Signif. codes:  0 ‘***’ 0.001 ‘**’ 0.01 ‘*’ 0.05 ‘.’ 0.1 ‘ ’ 1\n",
       "\n",
       "(Dispersion parameter for binomial family taken to be 1)\n",
       "\n",
       "    Null deviance: 5896.6  on 6704  degrees of freedom\n",
       "Residual deviance: 5734.8  on 6703  degrees of freedom\n",
       "AIC: 5738.8\n",
       "\n",
       "Number of Fisher Scoring iterations: 4\n"
      ]
     },
     "metadata": {},
     "output_type": "display_data"
    }
   ],
   "source": [
    "bivariate = glm(not.fully.paid~int.rate, data=train, family=\"binomial\")\n",
    "summary(bivariate)"
   ]
  },
  {
   "cell_type": "code",
   "execution_count": 13,
   "metadata": {
    "collapsed": false
   },
   "outputs": [
    {
     "data": {
      "text/plain": [
       "   Min. 1st Qu.  Median    Mean 3rd Qu.    Max. \n",
       "0.06196 0.11550 0.15080 0.15960 0.18930 0.42660 "
      ]
     },
     "metadata": {},
     "output_type": "display_data"
    }
   ],
   "source": [
    "pred.bivariate = predict(bivariate, newdata=test, type=\"response\")\n",
    "summary(pred.bivariate)"
   ]
  },
  {
   "cell_type": "markdown",
   "metadata": {},
   "source": [
    "### In a simple investment strategy an investor who invested c dollars in a loan with interest rate r for t years makes c * (exp(rt) - 1) dollars of profit if the loan is paid back in full and -c dollars of profit if the loan is not paid back in full (pessimistically).In order to evaluate the quality of an investment strategy, we need to compute this profit for each loan in the test set. We will take c=1 and time=3 years"
   ]
  },
  {
   "cell_type": "code",
   "execution_count": 14,
   "metadata": {
    "collapsed": false
   },
   "outputs": [
    {
     "data": {
      "text/plain": [
       "   Min. 1st Qu.  Median    Mean 3rd Qu.    Max. \n",
       "-1.0000  0.2858  0.4111  0.2094  0.4980  0.8895 "
      ]
     },
     "metadata": {},
     "output_type": "display_data"
    }
   ],
   "source": [
    "test$profit = exp(test$int.rate*3) - 1\n",
    "test$profit[test$not.fully.paid == 1] = -1\n",
    "summary(test$profit)"
   ]
  },
  {
   "cell_type": "markdown",
   "metadata": {},
   "source": [
    "### A simple investment strategy of equally investing in all the loans would yield profit $20.94 for a $100 investment. But this simple investment strategy does not leverage the prediction model we built earlier in this problem. As stated earlier, investors seek loans that balance reward with risk, in that they simultaneously have high interest rates and a low risk of not being paid back.\n",
    "\n",
    "### To meet this objective, we will analyze an investment strategy in which the investor only purchases loans with a high interest rate (a rate of at least 15%), but amongst these loans selects the ones with the lowest predicted risk of not being paid back in full. We will model an investor who invests 1 dollar in each of the most promising 100 loans."
   ]
  },
  {
   "cell_type": "code",
   "execution_count": 15,
   "metadata": {
    "collapsed": false
   },
   "outputs": [
    {
     "data": {
      "text/plain": [
       "   Min. 1st Qu.  Median    Mean 3rd Qu.    Max. \n",
       "-1.0000 -1.0000  0.5992  0.2251  0.6380  0.8895 "
      ]
     },
     "metadata": {},
     "output_type": "display_data"
    }
   ],
   "source": [
    "highInterest = subset(test, int.rate >= 0.15)\n",
    "summary(highInterest$profit)"
   ]
  },
  {
   "cell_type": "code",
   "execution_count": 16,
   "metadata": {
    "collapsed": false
   },
   "outputs": [
    {
     "data": {
      "text/plain": [
       "\n",
       "  0   1 \n",
       "327 110 "
      ]
     },
     "metadata": {},
     "output_type": "display_data"
    }
   ],
   "source": [
    "table(highInterest$not.fully.paid)"
   ]
  },
  {
   "cell_type": "markdown",
   "metadata": {},
   "source": [
    "### Next, we will determine the 100th smallest predicted probability of not paying in full by sorting the predicted risks in increasing order and selecting the 100th element of this sorted list"
   ]
  },
  {
   "cell_type": "code",
   "execution_count": 17,
   "metadata": {
    "collapsed": false
   },
   "outputs": [
    {
     "data": {
      "text/html": [
       "31.2782492792533"
      ],
      "text/latex": [
       "31.2782492792533"
      ],
      "text/markdown": [
       "31.2782492792533"
      ],
      "text/plain": [
       "[1] 31.27825"
      ]
     },
     "metadata": {},
     "output_type": "display_data"
    },
    {
     "data": {
      "text/plain": [
       "\n",
       " 0  1 \n",
       "81 19 "
      ]
     },
     "metadata": {},
     "output_type": "display_data"
    }
   ],
   "source": [
    "cutoff = sort(highInterest$predicted.risk, decreasing=FALSE)[100]\n",
    "selectedLoans = subset(highInterest, predicted.risk <= cutoff)\n",
    "sum(selectedLoans$profit)\n",
    "table(selectedLoans$not.fully.paid)"
   ]
  }
 ],
 "metadata": {
  "anaconda-cloud": {},
  "kernelspec": {
   "display_name": "R",
   "language": "R",
   "name": "ir"
  },
  "language_info": {
   "codemirror_mode": "r",
   "file_extension": ".r",
   "mimetype": "text/x-r-source",
   "name": "R",
   "pygments_lexer": "r",
   "version": "3.3.1"
  }
 },
 "nbformat": 4,
 "nbformat_minor": 1
}
